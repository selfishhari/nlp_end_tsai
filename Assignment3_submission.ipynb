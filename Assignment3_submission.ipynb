{
 "cells": [
  {
   "cell_type": "markdown",
   "metadata": {},
   "source": [
    "### Fibonacci"
   ]
  },
  {
   "cell_type": "code",
   "execution_count": null,
   "metadata": {
    "collapsed": true
   },
   "outputs": [],
   "source": [
    "def Fibonacci(n):\n",
    "    if n<=0:\n",
    "        print(\"Incorrect input\")\n",
    "    # First Fibonacci number is 0\n",
    "    elif n==1:\n",
    "        return 0\n",
    "    # Second Fibonacci number is 1\n",
    "    elif n==2:\n",
    "        return 1\n",
    "    else:\n",
    "        return Fibonacci(n-1)+Fibonacci(n-2)"
   ]
  },
  {
   "cell_type": "code",
   "execution_count": null,
   "metadata": {
    "collapsed": false
   },
   "outputs": [],
   "source": [
    "fibo_list = [Fibonacci(x) for x in range(1, 10)]\n",
    "\n",
    "fibo_list"
   ]
  },
  {
   "cell_type": "code",
   "execution_count": null,
   "metadata": {
    "collapsed": false
   },
   "outputs": [],
   "source": [
    "input_nums = [1, 2, 4, 5]\n",
    "\n",
    "\n",
    "list(filter(lambda x: x in fibo_list, input_nums))"
   ]
  },
  {
   "cell_type": "markdown",
   "metadata": {},
   "source": [
    "### Question 2:"
   ]
  },
  {
   "cell_type": "code",
   "execution_count": null,
   "metadata": {
    "collapsed": false
   },
   "outputs": [],
   "source": [
    "a = range(1,10)\n",
    "\n",
    "b = range(20,29)\n",
    "\n",
    "it_sum = [it1+it2 for it1, it2 in zip(filter(lambda x: x%2==0, a), filter(lambda x: x%2==1, b))]\n",
    "\n",
    "it_sum"
   ]
  },
  {
   "cell_type": "code",
   "execution_count": null,
   "metadata": {
    "collapsed": false
   },
   "outputs": [],
   "source": [
    "sum(it_sum)"
   ]
  },
  {
   "cell_type": "markdown",
   "metadata": {},
   "source": [
    "### Question 3"
   ]
  },
  {
   "cell_type": "code",
   "execution_count": null,
   "metadata": {
    "collapsed": false
   },
   "outputs": [],
   "source": [
    "import urllib.request as urllib2\n",
    "\n",
    "prof_words_url = urllib2.urlopen(\"https://raw.githubusercontent.com/RobertJGabriel/Google-profanity-words/master/list.txt\")\n",
    "    \n",
    "prof_words = [x.decode(\"utf-8\").strip() for x in prof_words_url]\n",
    "\n",
    "youreallyaskedforprofanityman = \"\"\"LEARNING Nlp to clean world's sh!t is somewhat similar to daily garbage clearner infront of our house.\n",
    "But if we were in UK/US we could have still earned some shyt. But fuckin doing this in India, am not seeing any difference to our lives at all.\n",
    "So screw you mod*. screw u gand*i. all u gaandus are loafers worthy of dick sucking. Hahah, identify the indian gali if you can bitch!\"\"\"    "
   ]
  },
  {
   "cell_type": "code",
   "execution_count": null,
   "metadata": {
    "collapsed": false,
    "scrolled": true
   },
   "outputs": [],
   "source": [
    "[x for x in youreallyaskedforprofanityman.lower().split() if x in prof_words]"
   ]
  },
  {
   "cell_type": "markdown",
   "metadata": {},
   "source": [
    "### Question 4"
   ]
  },
  {
   "cell_type": "code",
   "execution_count": null,
   "metadata": {
    "collapsed": false
   },
   "outputs": [],
   "source": [
    "from functools import reduce\n",
    "\n",
    "## add only even numbers in a list ##\n",
    "\n",
    "l = [1,2,3,4,5,6,3,2,1]\n",
    "reduce(lambda a,b : a+b,[x for x in l if x%2 == 0])"
   ]
  },
  {
   "cell_type": "code",
   "execution_count": null,
   "metadata": {
    "collapsed": false
   },
   "outputs": [],
   "source": [
    "from functools import reduce\n",
    "\n",
    "## find the biggest character in a string (printable ascii characters) ##\n",
    "\n",
    "name = 'asdefqA'\n",
    "reduce(lambda a,b : a if a > b else b, name)"
   ]
  },
  {
   "cell_type": "code",
   "execution_count": null,
   "metadata": {
    "collapsed": false
   },
   "outputs": [],
   "source": [
    "from functools import reduce\n",
    "\n",
    "## adds every 3rd number in a list ##\n",
    "\n",
    "l = [1,2,3,4,5,6,3,2,1]\n",
    "reduce(lambda a,b : a+b,[x for i,x in enumerate(l) if (i + 1)%3 == 0])"
   ]
  },
  {
   "cell_type": "markdown",
   "metadata": {},
   "source": [
    "### Question 5"
   ]
  },
  {
   "cell_type": "code",
   "execution_count": null,
   "metadata": {
    "collapsed": false
   },
   "outputs": [],
   "source": [
    "import string, random\n",
    "def generate_number_plate():\n",
    "    return 'KA' + str(random.randint(10,99)) + \\\n",
    "                random.choice(string.ascii_uppercase) + \\\n",
    "                random.choice(string.ascii_uppercase) + \\\n",
    "                str(random.randint(1000,9999))\n",
    "            \n",
    "result = [generate_number_plate() for n in range(15)]\n",
    "result"
   ]
  },
  {
   "cell_type": "markdown",
   "metadata": {},
   "source": [
    "### Question 6"
   ]
  },
  {
   "cell_type": "code",
   "execution_count": null,
   "metadata": {
    "collapsed": false
   },
   "outputs": [],
   "source": [
    "import string, random\n",
    "def generate_number_plate((x,y,z)):\n",
    "    print('you have input : ', (x,y,z))\n",
    "    return x + str(random.randint(10,99)) + \\\n",
    "                random.choice(string.ascii_uppercase) + \\\n",
    "                random.choice(string.ascii_uppercase) + \\\n",
    "                str(random.randint(y,z))\n",
    "\n",
    "## please provide input like -> 'DL', 2000, 5000\n",
    "## I am generating 2 licence plated rather than 15 just to input less no of times\n",
    "ll = [generate_number_plate(input(\"Enter DL/KA(within ''), starting range and ending range: \")) for n in range(2)]\n",
    "print(ll)"
   ]
  },
  {
   "cell_type": "code",
   "execution_count": null,
   "metadata": {
    "collapsed": true
   },
   "outputs": [],
   "source": []
  }
 ],
 "metadata": {
  "kernelspec": {
   "display_name": "Python [Root]",
   "language": "python",
   "name": "Python [Root]"
  },
  "language_info": {
   "codemirror_mode": {
    "name": "ipython",
    "version": 2
   },
   "file_extension": ".py",
   "mimetype": "text/x-python",
   "name": "python",
   "nbconvert_exporter": "python",
   "pygments_lexer": "ipython2",
   "version": "2.7.12"
  }
 },
 "nbformat": 4,
 "nbformat_minor": 4
}
